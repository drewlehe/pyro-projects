{
 "cells": [
  {
   "cell_type": "markdown",
   "id": "a072f8f6",
   "metadata": {},
   "source": [
    "Packages implementing traditional statistics and machine learning for causal inference (such as EconML) are popular for their \"Causal Forests\" algorithm which gives interpretability to heterogeneous treatment effects.\n",
    "\n",
    "In this notebook I attempt a neural network analog to Causal Forests for understanding heterogeneous treatment effects."
   ]
  },
  {
   "cell_type": "code",
   "execution_count": null,
   "id": "4d22fb4c",
   "metadata": {},
   "outputs": [],
   "source": [
    "import math\n",
    "import torch\n",
    "import torch.nn as nn\n",
    "import torch.nn.functional as F\n",
    "import pyro\n",
    "import pyro.distributions as dist\n",
    "from pyro.infer import SVI, Trace_ELBO, Predictive\n",
    "from pyro.infer.autoguide import AutoDiagonalNormal\n",
    "from pyro.optim import Adam\n",
    "import matplotlib.pyplot as plt\n",
    "import numpy as np\n",
    "\n",
    "pyro.set_rng_seed(0)\n",
    "pyro.clear_param_store()\n",
    "device = torch.device(\"cpu\")"
   ]
  },
  {
   "cell_type": "code",
   "execution_count": 2,
   "id": "2f22b5df",
   "metadata": {},
   "outputs": [],
   "source": [
    "# -----------------------------\n",
    "# 1) Simulate data\n",
    "# -----------------------------\n",
    "def true_tau(X):\n",
    "    x0 = torch.sigmoid(X[:, 0]) * 2.0\n",
    "    x1 = (X[:, 1] ** 2) * 1.5\n",
    "    x2 = torch.tanh(X[:, 2]) * (-1.0)\n",
    "    return x0 + x1 + x2\n",
    "\n",
    "def base_outcome(X):\n",
    "    return 1.0 + 0.5 * X[:, 0] - 0.3 * X[:, 1] + 0.2 * X[:, 2]\n",
    "\n",
    "N = 1000\n",
    "D = 6\n",
    "X = torch.randn(N, D)\n",
    "logit = -0.2 + 0.8 * X[:, 0] - 0.5 * X[:, 1]\n",
    "p = torch.sigmoid(logit)\n",
    "treatment = torch.bernoulli(p).float()\n",
    "\n",
    "tau_true = true_tau(X)\n",
    "y0 = base_outcome(X) + torch.randn(N) * 0.5\n",
    "y = y0 + tau_true * treatment\n",
    "y = y + torch.randn(N) * 0.5\n",
    "\n",
    "X_train = X.to(device)\n",
    "t_train = treatment.to(device)\n",
    "y_train = y.to(device)"
   ]
  },
  {
   "cell_type": "code",
   "execution_count": 3,
   "id": "69e42b68",
   "metadata": {},
   "outputs": [
    {
     "data": {
      "text/plain": [
       "AdditiveCATEModel(\n",
       "  (tau_subnets): ModuleList(\n",
       "    (0-5): 6 x OneDSubNet(\n",
       "      (net): Sequential(\n",
       "        (0): Linear(in_features=1, out_features=16, bias=True)\n",
       "        (1): ReLU()\n",
       "        (2): Linear(in_features=16, out_features=1, bias=True)\n",
       "      )\n",
       "    )\n",
       "  )\n",
       "  (base): Sequential(\n",
       "    (0): Linear(in_features=6, out_features=32, bias=True)\n",
       "    (1): ReLU()\n",
       "    (2): Linear(in_features=32, out_features=1, bias=True)\n",
       "  )\n",
       ")"
      ]
     },
     "execution_count": 3,
     "metadata": {},
     "output_type": "execute_result"
    }
   ],
   "source": [
    "# -----------------------------\n",
    "# 2) Define additive subnets\n",
    "# -----------------------------\n",
    "class OneDSubNet(nn.Module):\n",
    "    def __init__(self, hidden=16):\n",
    "        super().__init__()\n",
    "        self.net = nn.Sequential(\n",
    "            nn.Linear(1, hidden),\n",
    "            nn.ReLU(),\n",
    "            nn.Linear(hidden, 1)\n",
    "        )\n",
    "    def forward(self, x):\n",
    "        if x.dim() == 1:\n",
    "            x = x.unsqueeze(1)\n",
    "        return self.net(x).squeeze(1)\n",
    "\n",
    "class AdditiveCATEModel(nn.Module):\n",
    "    def __init__(self, D, hidden=16):\n",
    "        super().__init__()\n",
    "        self.tau_subnets = nn.ModuleList([OneDSubNet(hidden) for _ in range(D)])\n",
    "        self.base = nn.Sequential(nn.Linear(D, 32), nn.ReLU(), nn.Linear(32, 1))\n",
    "    def forward(self, X, t):\n",
    "        taus = [ subnet(X[:, i]) for i, subnet in enumerate(self.tau_subnets) ]\n",
    "        tau = torch.stack(taus, dim=1).sum(dim=1)\n",
    "        baseline = self.base(X).squeeze(1)\n",
    "        y_mean = baseline + tau * t\n",
    "        return y_mean, baseline, tau\n",
    "\n",
    "det_model = AdditiveCATEModel(D, hidden=16)\n",
    "det_model"
   ]
  },
  {
   "cell_type": "code",
   "execution_count": 4,
   "id": "729c0324",
   "metadata": {},
   "outputs": [
    {
     "name": "stderr",
     "output_type": "stream",
     "text": [
      "/Users/andrew.lehe/.pyenv/versions/3.11.5/lib/python3.11/site-packages/pyro/primitives.py:526: FutureWarning: The `random_module` primitive is deprecated, and will be removed in a future release. Use `pyro.nn.Module` to create Bayesian modules from `torch.nn.Module` instances.\n",
      "  warnings.warn(\n",
      "/Users/andrew.lehe/.pyenv/versions/3.11.5/lib/python3.11/site-packages/pyro/primitives.py:526: FutureWarning: The `random_module` primitive is deprecated, and will be removed in a future release. Use `pyro.nn.Module` to create Bayesian modules from `torch.nn.Module` instances.\n",
      "  warnings.warn(\n"
     ]
    },
    {
     "name": "stdout",
     "output_type": "stream",
     "text": [
      "Step 150/1500 - ELBO: 3772.3\n",
      "Step 300/1500 - ELBO: 2962.2\n",
      "Step 450/1500 - ELBO: 2899.6\n",
      "Step 600/1500 - ELBO: 2564.9\n",
      "Step 750/1500 - ELBO: 2738.5\n",
      "Step 900/1500 - ELBO: 2401.1\n",
      "Step 1050/1500 - ELBO: 2518.9\n",
      "Step 1200/1500 - ELBO: 2457.5\n",
      "Step 1350/1500 - ELBO: 2329.5\n",
      "Step 1500/1500 - ELBO: 2382.7\n"
     ]
    }
   ],
   "source": [
    "# -----------------------------\n",
    "# 3) Pyro model (make module Bayesian)\n",
    "# -----------------------------\n",
    "def pyro_model(X, t, y=None):\n",
    "    priors = {}\n",
    "    for name, param in det_model.named_parameters():\n",
    "        priors[name] = dist.Normal(torch.zeros_like(param), torch.ones_like(param)).independent(param.dim())\n",
    "    sampled_module = pyro.random_module(\"bnn\", det_model, priors)()\n",
    "    sigma = pyro.sample(\"sigma\", dist.HalfCauchy(1.0))\n",
    "    y_mean, baseline, tau = sampled_module(X, t)\n",
    "    with pyro.plate(\"data\", X.shape[0]):\n",
    "        pyro.sample(\"obs\", dist.Normal(y_mean, sigma), obs=y if y is not None else None)\n",
    "\n",
    "# -----------------------------\n",
    "# 4) Inference: AutoGuide + SVI\n",
    "# -----------------------------\n",
    "guide = AutoDiagonalNormal(pyro_model)\n",
    "optim = Adam({\"lr\": 1e-3})\n",
    "svi = SVI(pyro_model, guide, optim, loss=Trace_ELBO())\n",
    "\n",
    "num_steps = 1500\n",
    "for step in range(num_steps):\n",
    "    loss = svi.step(X_train, t_train, y_train)\n",
    "    if (step + 1) % 150 == 0:\n",
    "        print(f\"Step {step+1}/{num_steps} - ELBO: {loss:.1f}\")\n",
    "\n",
    "# -----------------------------\n",
    "# 5) Posterior predictive & CATE\n",
    "# -----------------------------\n",
    "num_samples = 200\n",
    "pred_t1 = Predictive(pyro_model, guide=guide, num_samples=num_samples)(X_train, torch.ones_like(t_train))\n",
    "pred_t0 = Predictive(pyro_model, guide=guide, num_samples=num_samples)(X_train, torch.zeros_like(t_train))\n",
    "\n",
    "y_t1_samples = pred_t1[\"obs\"]   # shape (S, N)\n",
    "y_t0_samples = pred_t0[\"obs\"]\n",
    "cate_samples = y_t1_samples - y_t0_samples  # (S, N)\n",
    "\n",
    "cate_mean = cate_samples.mean(0).detach().cpu().numpy()\n",
    "cate_std  = cate_samples.std(0).detach().cpu().numpy()\n",
    "tau_true_np = tau_true.detach().cpu().numpy()\n"
   ]
  },
  {
   "cell_type": "code",
   "execution_count": 5,
   "id": "1f962868",
   "metadata": {},
   "outputs": [
    {
     "data": {
      "image/png": "[encoded data removed]",
      "text/plain": [
       "<Figure size 600x600 with 1 Axes>"
      ]
     },
     "metadata": {},
     "output_type": "display_data"
    },
    {
     "name": "stdout",
     "output_type": "stream",
     "text": [
      "RMSE on CATE estimate: 0.877\n",
      "To inspect per-feature contributions precisely, generate sampled_module = pyro.random_module(...)() with parameters drawn from the guide and call sampled_module(X, t).\n"
     ]
    }
   ],
   "source": [
    "\n",
    "# Plot true vs estimated CATE (random subset)\n",
    "import numpy as np\n",
    "idx = np.random.choice(N, size=200, replace=False)\n",
    "plt.figure(figsize=(6,6))\n",
    "plt.scatter(tau_true_np[idx], cate_mean[idx], alpha=0.6, s=12)\n",
    "plt.plot([tau_true_np.min()-0.5, tau_true_np.max()+0.5],\n",
    "         [tau_true_np.min()-0.5, tau_true_np.max()+0.5],\n",
    "         color=\"k\", linestyle=\"--\")\n",
    "plt.xlabel(\"True CATE\")\n",
    "plt.ylabel(\"Estimated CATE (posterior mean)\")\n",
    "plt.title(\"True vs Estimated CATE (subset)\")\n",
    "plt.grid(True)\n",
    "plt.show()\n",
    "\n",
    "# Quick metrics\n",
    "mse = ((cate_mean - tau_true_np)**2).mean()\n",
    "print(f\"RMSE on CATE estimate: {np.sqrt(mse):.3f}\")\n",
    "\n",
    "# -----------------------------\n",
    "# 6) How to inspect per-feature learned contributions (interpretability)\n",
    "# -----------------------------\n",
    "# A: sample modules from the guide and compute the subnet outputs to get per-feature contributions.\n",
    "from pyro.infer import Predictive as PredictiveGuide\n",
    "\n",
    "# draw samples of the Bayesian module by sampling latent params from the guide\n",
    "# We'll call the underlying deterministic network by setting t to 1 and 0 and compute per-feature outputs\n",
    "S = 50\n",
    "samples = guide.get_posterior().sample((S,))  # dictionary of latent param draws\n",
    "\n",
    "# helper to load sampled params into det_model-like structure is nontrivial here,\n",
    "# but we can instead reuse Predictive to get obs and then approximate per-feature contributions:\n",
    "# If you need exact per-feature module outputs, use pyro.random_module sampling directly: see next snippet.\n",
    "\n",
    "print(\"To inspect per-feature contributions precisely, generate sampled_module = pyro.random_module(...)() with parameters drawn from the guide and call sampled_module(X, t).\")\n",
    "\n",
    "# (End)\n"
   ]
  }
 ],
 "metadata": {
  "kernelspec": {
   "display_name": "3.11.5",
   "language": "python",
   "name": "python3"
  },
  "language_info": {
   "codemirror_mode": {
    "name": "ipython",
    "version": 3
   },
   "file_extension": ".py",
   "mimetype": "text/x-python",
   "name": "python",
   "nbconvert_exporter": "python",
   "pygments_lexer": "ipython3",
   "version": "3.11.5"
  }
 },
 "nbformat": 4,
 "nbformat_minor": 5
}
